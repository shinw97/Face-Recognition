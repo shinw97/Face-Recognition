{
 "cells": [
  {
   "cell_type": "code",
   "execution_count": 1,
   "metadata": {},
   "outputs": [
    {
     "name": "stderr",
     "output_type": "stream",
     "text": [
      "Using TensorFlow backend.\n"
     ]
    }
   ],
   "source": [
    "# https://www.kaggle.com/arpandhatt/siamese-neural-networks\n",
    "# https://keras.io/examples/mnist_siamese/\n",
    "\n",
    "from keras.models import Model, Sequential\n",
    "from keras.layers import Input, Conv2D, Dense, MaxPooling2D, Dropout, Flatten, Lambda, LeakyReLU, Activation\n",
    "import keras.backend as K\n",
    "import numpy as np\n",
    "from keras.callbacks import EarlyStopping, ModelCheckpoint"
   ]
  },
  {
   "cell_type": "code",
   "execution_count": 2,
   "metadata": {},
   "outputs": [],
   "source": [
    "DATASET_DIR = '../dataset/mnist-siamese-network-pair/'\n",
    "description = 'siamese-network-mnist'"
   ]
  },
  {
   "cell_type": "code",
   "execution_count": 33,
   "metadata": {},
   "outputs": [],
   "source": [
    "def base_network(input_shape):\n",
    "    model = Sequential()\n",
    "    model.add(Conv2D(5, (3, 3), input_shape=input_shape))\n",
    "    model.add(LeakyReLU(alpha=0.1))\n",
    "    model.add(MaxPooling2D(pool_size=(2, 2)))\n",
    "#     model.add(Dropout(0.5))\n",
    "    model.add(Conv2D(5, (3, 3)))\n",
    "    model.add(LeakyReLU(alpha=0.1))\n",
    "    model.add(MaxPooling2D(pool_size=(2, 2)))\n",
    "#     model.add(Dropout(0.25))\n",
    "    model.add(Conv2D(7, (3, 3)))\n",
    "    model.add(LeakyReLU(alpha=0.1))\n",
    "    model.add(MaxPooling2D(pool_size=(2, 2)))\n",
    "#     model.add(Dropout(0.25))\n",
    "    model.add(Flatten())\n",
    "    return model"
   ]
  },
  {
   "cell_type": "code",
   "execution_count": 4,
   "metadata": {},
   "outputs": [],
   "source": [
    "def euclidean_distance(vects):\n",
    "    x, y = vects\n",
    "    sum_square = K.sum(K.square(x - y), axis=1, keepdims=True)\n",
    "    return K.sqrt(K.maximum(sum_square, K.epsilon()))"
   ]
  },
  {
   "cell_type": "code",
   "execution_count": 5,
   "metadata": {},
   "outputs": [],
   "source": [
    "def load_paired_dataset():\n",
    "    X_train = np.load(DATASET_DIR + 'tr_pairs.npy')\n",
    "    y_train = np.load(DATASET_DIR + 'tr_y.npy')\n",
    "    X_test = np.load(DATASET_DIR + 'ts_pairs.npy')\n",
    "    y_test = np.load(DATASET_DIR + 'ts_y.npy')\n",
    "    return X_train, y_train, X_test, y_test"
   ]
  },
  {
   "cell_type": "code",
   "execution_count": 6,
   "metadata": {},
   "outputs": [],
   "source": [
    "X_train, y_train, X_test, y_test = load_paired_dataset()\n",
    "input_shape = X_train.shape[2:]"
   ]
  },
  {
   "cell_type": "code",
   "execution_count": 34,
   "metadata": {},
   "outputs": [],
   "source": [
    "input_A = Input(input_shape)\n",
    "input_B = Input(input_shape)\n",
    "\n",
    "shared_network = base_network(input_shape)\n",
    "\n",
    "network_A = shared_network(input_A)\n",
    "network_B = shared_network(input_B)\n",
    "\n",
    "# L1_layer = Lambda(lambda tensor:K.abs(tensor[0] - tensor[1]))\n",
    "function_layer = Lambda(euclidean_distance)\n",
    "\n",
    "distance_layer = function_layer([network_A, network_B])\n",
    "\n",
    "x = Dense(16, activation='relu')(distance_layer)\n",
    "x = Dense(8, activation='relu')(x)\n",
    "x = Dense(4, activation='relu')(x)\n",
    "prediction = Dense(1,activation='sigmoid')(x)\n",
    "\n",
    "model = Model(inputs=[input_A, input_B],outputs=prediction)"
   ]
  },
  {
   "cell_type": "code",
   "execution_count": 35,
   "metadata": {},
   "outputs": [
    {
     "name": "stdout",
     "output_type": "stream",
     "text": [
      "__________________________________________________________________________________________________\n",
      "Layer (type)                    Output Shape         Param #     Connected to                     \n",
      "==================================================================================================\n",
      "input_13 (InputLayer)           (None, 28, 28, 1)    0                                            \n",
      "__________________________________________________________________________________________________\n",
      "input_14 (InputLayer)           (None, 28, 28, 1)    0                                            \n",
      "__________________________________________________________________________________________________\n",
      "sequential_7 (Sequential)       (None, 7)            602         input_13[0][0]                   \n",
      "                                                                 input_14[0][0]                   \n",
      "__________________________________________________________________________________________________\n",
      "lambda_7 (Lambda)               (None, 1)            0           sequential_7[1][0]               \n",
      "                                                                 sequential_7[2][0]               \n",
      "__________________________________________________________________________________________________\n",
      "dense_21 (Dense)                (None, 16)           32          lambda_7[0][0]                   \n",
      "__________________________________________________________________________________________________\n",
      "dense_22 (Dense)                (None, 8)            136         dense_21[0][0]                   \n",
      "__________________________________________________________________________________________________\n",
      "dense_23 (Dense)                (None, 4)            36          dense_22[0][0]                   \n",
      "__________________________________________________________________________________________________\n",
      "dense_24 (Dense)                (None, 1)            5           dense_23[0][0]                   \n",
      "==================================================================================================\n",
      "Total params: 811\n",
      "Trainable params: 811\n",
      "Non-trainable params: 0\n",
      "__________________________________________________________________________________________________\n"
     ]
    }
   ],
   "source": [
    "model.compile(loss=\"binary_crossentropy\",optimizer='adam',metrics=['accuracy'])\n",
    "model.summary()"
   ]
  },
  {
   "cell_type": "code",
   "execution_count": 36,
   "metadata": {},
   "outputs": [],
   "source": [
    "es = EarlyStopping(monitor='loss',\n",
    "                  patience=3,\n",
    "                  verbose=1,\n",
    "                  mode='min',\n",
    "                  restore_best_weights=True)\n",
    "mc = ModelCheckpoint(description + '-best_Weights.h5',\n",
    "                     monitor='loss',\n",
    "                    verbose=1,\n",
    "                    save_best_only=True,\n",
    "                    save_weights_only=True)"
   ]
  },
  {
   "cell_type": "code",
   "execution_count": 37,
   "metadata": {},
   "outputs": [
    {
     "name": "stdout",
     "output_type": "stream",
     "text": [
      "Train on 97560 samples, validate on 10840 samples\n",
      "Epoch 1/10\n",
      "97560/97560 [==============================] - 18s 186us/step - loss: 0.4646 - acc: 0.7628 - val_loss: 0.4196 - val_acc: 0.8067\n",
      "\n",
      "Epoch 00001: loss improved from inf to 0.46460, saving model to siamese-network-mnist-best_Weights.h5\n",
      "Epoch 2/10\n",
      "97560/97560 [==============================] - 17s 172us/step - loss: 0.2952 - acc: 0.8730 - val_loss: 0.4259 - val_acc: 0.8077\n",
      "\n",
      "Epoch 00002: loss improved from 0.46460 to 0.29518, saving model to siamese-network-mnist-best_Weights.h5\n",
      "Epoch 3/10\n",
      "97560/97560 [==============================] - 17s 170us/step - loss: 0.2604 - acc: 0.8916 - val_loss: 0.4164 - val_acc: 0.8137\n",
      "\n",
      "Epoch 00003: loss improved from 0.29518 to 0.26045, saving model to siamese-network-mnist-best_Weights.h5\n",
      "Epoch 4/10\n",
      "97560/97560 [==============================] - 17s 171us/step - loss: 0.2440 - acc: 0.8993 - val_loss: 0.3794 - val_acc: 0.8363\n",
      "\n",
      "Epoch 00004: loss improved from 0.26045 to 0.24404, saving model to siamese-network-mnist-best_Weights.h5\n",
      "Epoch 5/10\n",
      "97560/97560 [==============================] - 17s 173us/step - loss: 0.2321 - acc: 0.9051 - val_loss: 0.4247 - val_acc: 0.8177\n",
      "\n",
      "Epoch 00005: loss improved from 0.24404 to 0.23213, saving model to siamese-network-mnist-best_Weights.h5\n",
      "Epoch 6/10\n",
      "97560/97560 [==============================] - 17s 171us/step - loss: 0.2233 - acc: 0.9094 - val_loss: 0.3970 - val_acc: 0.8321\n",
      "\n",
      "Epoch 00006: loss improved from 0.23213 to 0.22334, saving model to siamese-network-mnist-best_Weights.h5\n",
      "Epoch 7/10\n",
      "97560/97560 [==============================] - 17s 171us/step - loss: 0.2177 - acc: 0.9117 - val_loss: 0.4324 - val_acc: 0.8251\n",
      "\n",
      "Epoch 00007: loss improved from 0.22334 to 0.21770, saving model to siamese-network-mnist-best_Weights.h5\n",
      "Epoch 8/10\n",
      "97560/97560 [==============================] - 17s 175us/step - loss: 0.2132 - acc: 0.9138 - val_loss: 0.3778 - val_acc: 0.8410\n",
      "\n",
      "Epoch 00008: loss improved from 0.21770 to 0.21322, saving model to siamese-network-mnist-best_Weights.h5\n",
      "Epoch 9/10\n",
      "97560/97560 [==============================] - 17s 171us/step - loss: 0.2097 - acc: 0.9160 - val_loss: 0.3965 - val_acc: 0.8363\n",
      "\n",
      "Epoch 00009: loss improved from 0.21322 to 0.20972, saving model to siamese-network-mnist-best_Weights.h5\n",
      "Epoch 10/10\n",
      "97560/97560 [==============================] - 17s 173us/step - loss: 0.2062 - acc: 0.9173 - val_loss: 0.4123 - val_acc: 0.8350\n",
      "\n",
      "Epoch 00010: loss improved from 0.20972 to 0.20620, saving model to siamese-network-mnist-best_Weights.h5\n"
     ]
    },
    {
     "data": {
      "text/plain": [
       "<keras.callbacks.History at 0x7f19edb1b6d8>"
      ]
     },
     "execution_count": 37,
     "metadata": {},
     "output_type": "execute_result"
    }
   ],
   "source": [
    "model.fit(x=[X_train[:, 0], X_train[:, 1]], y=y_train, batch_size=128, epochs=10, validation_split=0.1, callbacks=[es, mc])"
   ]
  },
  {
   "cell_type": "code",
   "execution_count": 38,
   "metadata": {},
   "outputs": [
    {
     "name": "stdout",
     "output_type": "stream",
     "text": [
      "17820/17820 [==============================] - 2s 121us/step\n"
     ]
    },
    {
     "data": {
      "text/plain": [
       "[0.19406876112141058, 0.9234006734274319]"
      ]
     },
     "execution_count": 38,
     "metadata": {},
     "output_type": "execute_result"
    }
   ],
   "source": [
    "model.evaluate(x=[X_test[:, 0], X_test[:, 1]], y=y_test)"
   ]
  }
 ],
 "metadata": {
  "kernelspec": {
   "display_name": "Python 3",
   "language": "python",
   "name": "python3"
  },
  "language_info": {
   "codemirror_mode": {
    "name": "ipython",
    "version": 3
   },
   "file_extension": ".py",
   "mimetype": "text/x-python",
   "name": "python",
   "nbconvert_exporter": "python",
   "pygments_lexer": "ipython3",
   "version": "3.6.8"
  }
 },
 "nbformat": 4,
 "nbformat_minor": 2
}
