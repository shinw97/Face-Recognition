{
 "cells": [
  {
   "cell_type": "code",
   "execution_count": 1,
   "metadata": {},
   "outputs": [],
   "source": [
    "import numpy as np\n",
    "import pandas as pd\n",
    "import random"
   ]
  },
  {
   "cell_type": "code",
   "execution_count": 2,
   "metadata": {},
   "outputs": [],
   "source": [
    "NUM_CLASSES = 10\n",
    "TRAIN_DATA_DIR = '../dataset/mnist-in-csv/mnist_train.csv'\n",
    "TEST_DATA_DIR = '../dataset/mnist-in-csv/mnist_test.csv'\n",
    "DATASET_ROOT_DIR = '../dataset/'"
   ]
  },
  {
   "cell_type": "code",
   "execution_count": 3,
   "metadata": {},
   "outputs": [],
   "source": [
    "def create_triplets(x, digit_indices):\n",
    "    '''\n",
    "    anchor with positive and negative triplet creation.\n",
    "    '''\n",
    "    triplets = []\n",
    "    n = min([len(digit_indices[d]) for d in range(NUM_CLASSES)]) - 1\n",
    "    for d in range(NUM_CLASSES):\n",
    "        for i in range(n):\n",
    "            inc = random.randrange(1, NUM_CLASSES)\n",
    "            dn = (d + inc) % NUM_CLASSES\n",
    "            z1, z2, z3 = digit_indices[d][i], digit_indices[d][i + 1], digit_indices[dn][i]\n",
    "            triplets += [[x[z1], x[z2], x[z3]]]\n",
    "#             triplets += [x[z1], x[z2], x[z3]]\n",
    "            \n",
    "    return np.array(triplets)"
   ]
  },
  {
   "cell_type": "code",
   "execution_count": 4,
   "metadata": {},
   "outputs": [],
   "source": [
    "train_df = pd.read_csv(TRAIN_DATA_DIR)\n",
    "test_df = pd.read_csv(TEST_DATA_DIR)"
   ]
  },
  {
   "cell_type": "code",
   "execution_count": 5,
   "metadata": {},
   "outputs": [],
   "source": [
    "m_train = train_df.shape[0]\n",
    "m_test = test_df.shape[0]"
   ]
  },
  {
   "cell_type": "code",
   "execution_count": 6,
   "metadata": {},
   "outputs": [],
   "source": [
    "X_train = np.array(train_df.loc[:, train_df.columns != 'label'].values.reshape(m_train, 28, 28, 1), dtype=np.float64)\n",
    "y_train = train_df['label'].values\n",
    "X_test = np.array(test_df.loc[:, test_df.columns != 'label'].values.reshape(m_test, 28, 28, 1), dtype=np.float64)\n",
    "y_test = test_df['label'].values"
   ]
  },
  {
   "cell_type": "code",
   "execution_count": 7,
   "metadata": {},
   "outputs": [],
   "source": [
    "X_train /= 255\n",
    "X_test /= 255\n",
    "input_shape = X_train.shape[1:]"
   ]
  },
  {
   "cell_type": "code",
   "execution_count": 8,
   "metadata": {},
   "outputs": [],
   "source": [
    "digit_indices = [np.where(y_train == i)[0] for i in range(NUM_CLASSES)]\n",
    "tr_triplets = create_triplets(X_train, digit_indices)\n",
    "\n",
    "digit_indices = [np.where(y_test == i)[0] for i in range(NUM_CLASSES)]\n",
    "ts_triplets = create_triplets(X_test, digit_indices)"
   ]
  },
  {
   "cell_type": "code",
   "execution_count": 9,
   "metadata": {},
   "outputs": [
    {
     "name": "stdout",
     "output_type": "stream",
     "text": [
      "train X shape: (162600, 28, 28, 1)\n",
      "test X shape: (26730, 28, 28, 1)\n"
     ]
    }
   ],
   "source": [
    "print('train X shape:', tr_triplets.shape)\n",
    "print('test X shape:', ts_triplets.shape)"
   ]
  },
  {
   "cell_type": "code",
   "execution_count": 10,
   "metadata": {},
   "outputs": [],
   "source": [
    "np.save(DATASET_ROOT_DIR + 'mnist-triplet-loss/tr_triplets.npy', tr_triplets)\n",
    "np.save(DATASET_ROOT_DIR + 'mnist-triplet-loss/ts_triplets.npy', ts_triplets)"
   ]
  }
 ],
 "metadata": {
  "kernelspec": {
   "display_name": "Python 3",
   "language": "python",
   "name": "python3"
  },
  "language_info": {
   "codemirror_mode": {
    "name": "ipython",
    "version": 3
   },
   "file_extension": ".py",
   "mimetype": "text/x-python",
   "name": "python",
   "nbconvert_exporter": "python",
   "pygments_lexer": "ipython3",
   "version": "3.6.8"
  }
 },
 "nbformat": 4,
 "nbformat_minor": 2
}
