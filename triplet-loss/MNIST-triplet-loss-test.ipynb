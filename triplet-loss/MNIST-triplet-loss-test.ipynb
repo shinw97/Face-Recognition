{
 "cells": [
  {
   "cell_type": "code",
   "execution_count": 1,
   "metadata": {},
   "outputs": [
    {
     "name": "stderr",
     "output_type": "stream",
     "text": [
      "Using TensorFlow backend.\n"
     ]
    }
   ],
   "source": [
    "from keras.models import load_model, Model\n",
    "from keras import backend as K\n",
    "import pandas as pd\n",
    "import numpy as np\n",
    "from keras.layers import Input\n",
    "import tensorflow as tf"
   ]
  },
  {
   "cell_type": "code",
   "execution_count": 2,
   "metadata": {},
   "outputs": [],
   "source": [
    "test_df = pd.read_csv('../dataset/mnist-in-csv/mnist_test.csv')\n",
    "m_test = len(test_df)\n",
    "X_test = np.array(test_df.loc[:, test_df.columns != 'label'].values.reshape(m_test, 28, 28, 1), dtype=np.float64)\n",
    "y_test = test_df['label'].values\n",
    "X_test /= 255"
   ]
  },
  {
   "cell_type": "code",
   "execution_count": 3,
   "metadata": {},
   "outputs": [],
   "source": [
    "model = load_model('trained-weights-model/MNIST-triplet-loss-network-andrew-ng.h5', compile=False, custom_objects={'tf': tf})"
   ]
  },
  {
   "cell_type": "code",
   "execution_count": 4,
   "metadata": {},
   "outputs": [],
   "source": [
    "input_layer = Input((28,28,1))\n",
    "extracted_network = model.get_layer(index=3)\n",
    "extracted_network = extracted_network(input_layer)"
   ]
  },
  {
   "cell_type": "code",
   "execution_count": 5,
   "metadata": {},
   "outputs": [
    {
     "name": "stdout",
     "output_type": "stream",
     "text": [
      "_________________________________________________________________\n",
      "Layer (type)                 Output Shape              Param #   \n",
      "=================================================================\n",
      "input_1 (InputLayer)         (None, 28, 28, 1)         0         \n",
      "_________________________________________________________________\n",
      "sequential_5 (Sequential)    (None, 1, 128)            45164     \n",
      "=================================================================\n",
      "Total params: 45,164\n",
      "Trainable params: 45,164\n",
      "Non-trainable params: 0\n",
      "_________________________________________________________________\n"
     ]
    }
   ],
   "source": [
    "model = Model(input_layer, extracted_network)\n",
    "model.summary()"
   ]
  },
  {
   "cell_type": "code",
   "execution_count": 6,
   "metadata": {},
   "outputs": [
    {
     "name": "stdout",
     "output_type": "stream",
     "text": [
      "\n",
      "0 -> 7  1 -> 2  2 -> 1  3 -> 0  4 -> 4  5 -> 1  6 -> 4  7 -> 9  8 -> 5  9 -> 9  \n",
      "10 -> 0  11 -> 6  12 -> 9  13 -> 0  14 -> 1  15 -> 5  16 -> 9  17 -> 7  18 -> 3  19 -> 4  \n",
      "20 -> 9  21 -> 6  22 -> 6  23 -> 5  24 -> 4  25 -> 0  26 -> 7  27 -> 4  28 -> 0  29 -> 1  \n",
      "30 -> 3  31 -> 1  32 -> 3  33 -> 4  34 -> 7  35 -> 2  36 -> 7  37 -> 1  38 -> 2  39 -> 1  "
     ]
    }
   ],
   "source": [
    "for i, j in enumerate(y_test[:40]):\n",
    "    if i%10 == 0:\n",
    "        print()\n",
    "    print(str(i) + ' -> ' + str(j), end='  ')"
   ]
  },
  {
   "cell_type": "code",
   "execution_count": 7,
   "metadata": {},
   "outputs": [
    {
     "name": "stdout",
     "output_type": "stream",
     "text": [
      "(1, 1, 128)\n",
      "(1, 1, 128)\n",
      "0.834716\n"
     ]
    }
   ],
   "source": [
    "image_a = X_test[39]\n",
    "image_a = np.expand_dims(image_a, axis=0)\n",
    "image_a_encoding = model.predict(image_a)\n",
    "print(image_a_encoding.shape)\n",
    "\n",
    "image_b = X_test[29]\n",
    "image_b = np.expand_dims(image_b, axis=0)\n",
    "image_b_encoding = model.predict(image_b)\n",
    "print(image_b_encoding.shape)\n",
    "\n",
    "# print(image_a_encoding)\n",
    "# print(image_b_encoding)\n",
    "\n",
    "dist = np.linalg.norm(image_a_encoding - image_b_encoding)\n",
    "print(dist)"
   ]
  },
  {
   "cell_type": "code",
   "execution_count": 8,
   "metadata": {},
   "outputs": [],
   "source": [
    "model.save_weights('trained-weights-model/triplet_loss_encoding_network_weights.h5')\n",
    "model.save('trained-weights-model/triplet_loss_encoding_network_model.h5')"
   ]
  }
 ],
 "metadata": {
  "kernelspec": {
   "display_name": "Python 3",
   "language": "python",
   "name": "python3"
  },
  "language_info": {
   "codemirror_mode": {
    "name": "ipython",
    "version": 3
   },
   "file_extension": ".py",
   "mimetype": "text/x-python",
   "name": "python",
   "nbconvert_exporter": "python",
   "pygments_lexer": "ipython3",
   "version": "3.6.8"
  }
 },
 "nbformat": 4,
 "nbformat_minor": 2
}
