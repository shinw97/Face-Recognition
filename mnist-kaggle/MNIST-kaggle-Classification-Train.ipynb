{
 "cells": [
  {
   "cell_type": "code",
   "execution_count": 1,
   "metadata": {},
   "outputs": [
    {
     "name": "stderr",
     "output_type": "stream",
     "text": [
      "Using TensorFlow backend.\n"
     ]
    }
   ],
   "source": [
    "from keras.models import Sequential\n",
    "from keras.layers import Conv2D, Dense, MaxPooling2D, Dropout, Flatten\n",
    "import pandas as pd\n",
    "import numpy as np\n",
    "import matplotlib.pyplot as plt\n",
    "from keras.utils import to_categorical\n",
    "from keras.callbacks import EarlyStopping, ModelCheckpoint"
   ]
  },
  {
   "cell_type": "code",
   "execution_count": 2,
   "metadata": {},
   "outputs": [],
   "source": [
    "DIR = 'mnist-kaggle-dataset/train_mnist.csv'\n",
    "description = 'mnist-cnn-2'"
   ]
  },
  {
   "cell_type": "code",
   "execution_count": 3,
   "metadata": {},
   "outputs": [],
   "source": [
    "df_train = pd.read_csv(DIR)\n",
    "data = df_train.loc[:, df_train.columns != 'label']\n",
    "label = df_train.label"
   ]
  },
  {
   "cell_type": "code",
   "execution_count": 4,
   "metadata": {},
   "outputs": [],
   "source": [
    "train_X = np.array(data.values.reshape(42000, 28, 28, 1), dtype=np.float64)"
   ]
  },
  {
   "cell_type": "code",
   "execution_count": 5,
   "metadata": {},
   "outputs": [
    {
     "data": {
      "text/plain": [
       "(42000, 10)"
      ]
     },
     "execution_count": 5,
     "metadata": {},
     "output_type": "execute_result"
    }
   ],
   "source": [
    "train_y = label.values\n",
    "train_y = to_categorical(train_y)\n",
    "train_y.reshape(42000, 10, 1)\n",
    "train_y.shape"
   ]
  },
  {
   "cell_type": "code",
   "execution_count": 6,
   "metadata": {},
   "outputs": [],
   "source": [
    "# train_X\n",
    "%matplotlib inline\n",
    "# plt.imshow(train_X[100], interpolation='nearest')\n",
    "plt.show()"
   ]
  },
  {
   "cell_type": "code",
   "execution_count": 7,
   "metadata": {},
   "outputs": [],
   "source": [
    "train_X /= 255"
   ]
  },
  {
   "cell_type": "code",
   "execution_count": 12,
   "metadata": {},
   "outputs": [
    {
     "name": "stdout",
     "output_type": "stream",
     "text": [
      "(42000, 28, 28, 1)\n"
     ]
    }
   ],
   "source": [
    "print(train_X.shape)\n",
    "model = Sequential()\n",
    "model.add(Conv2D(32, (3, 3), activation='relu', input_shape=(28, 28, 1)))\n",
    "model.add(MaxPooling2D(pool_size=(2, 2)))\n",
    "model.add(Dropout(0.5))\n",
    "model.add(Conv2D(64, (3, 3), activation='relu'))\n",
    "model.add(MaxPooling2D(pool_size=(2, 2)))\n",
    "model.add(Dropout(0.25))\n",
    "model.add(Conv2D(128, (3, 3), activation='relu'))\n",
    "model.add(MaxPooling2D(pool_size=(2, 2)))\n",
    "model.add(Dropout(0.25))\n",
    "model.add(Flatten())\n",
    "model.add(Dense(64, activation='relu'))\n",
    "model.add(Dense(10, activation='softmax'))"
   ]
  },
  {
   "cell_type": "code",
   "execution_count": 13,
   "metadata": {},
   "outputs": [],
   "source": [
    "es = EarlyStopping(monitor='val_loss',\n",
    "                  patience=3,\n",
    "                  verbose=1,\n",
    "                  mode='min',\n",
    "                  restore_best_weights=True)\n",
    "mc = ModelCheckpoint(description + '-best_Weights.h5',\n",
    "                     monitor='val_loss',\n",
    "                    verbose=1,\n",
    "                    save_best_only=True,\n",
    "                    save_weights_only=True)"
   ]
  },
  {
   "cell_type": "code",
   "execution_count": 14,
   "metadata": {},
   "outputs": [],
   "source": [
    "model.compile(loss='categorical_crossentropy', optimizer='adam', metrics=['accuracy'])"
   ]
  },
  {
   "cell_type": "code",
   "execution_count": 17,
   "metadata": {},
   "outputs": [
    {
     "name": "stdout",
     "output_type": "stream",
     "text": [
      "Train on 37800 samples, validate on 4200 samples\n",
      "Epoch 1/20\n",
      "37800/37800 [==============================] - 9s 232us/step - loss: 0.0587 - acc: 0.9809 - val_loss: 0.0400 - val_acc: 0.9886\n",
      "\n",
      "Epoch 00001: val_loss did not improve from 0.03691\n",
      "Epoch 2/20\n",
      "37800/37800 [==============================] - 9s 237us/step - loss: 0.0573 - acc: 0.9811 - val_loss: 0.0377 - val_acc: 0.9893\n",
      "\n",
      "Epoch 00002: val_loss did not improve from 0.03691\n",
      "Epoch 3/20\n",
      "37800/37800 [==============================] - 9s 236us/step - loss: 0.0583 - acc: 0.9814 - val_loss: 0.0391 - val_acc: 0.9879\n",
      "\n",
      "Epoch 00003: val_loss did not improve from 0.03691\n",
      "Epoch 4/20\n",
      "37800/37800 [==============================] - 9s 237us/step - loss: 0.0561 - acc: 0.9818 - val_loss: 0.0340 - val_acc: 0.9890\n",
      "\n",
      "Epoch 00004: val_loss improved from 0.03691 to 0.03396, saving model to mnist-cnn-2-best_Weights.h5\n",
      "Epoch 5/20\n",
      "37800/37800 [==============================] - 9s 243us/step - loss: 0.0522 - acc: 0.9824 - val_loss: 0.0379 - val_acc: 0.9895\n",
      "\n",
      "Epoch 00005: val_loss did not improve from 0.03396\n",
      "Epoch 6/20\n",
      "37800/37800 [==============================] - 9s 239us/step - loss: 0.0517 - acc: 0.9833 - val_loss: 0.0363 - val_acc: 0.9888\n",
      "\n",
      "Epoch 00006: val_loss did not improve from 0.03396\n",
      "Epoch 7/20\n",
      "37800/37800 [==============================] - 9s 242us/step - loss: 0.0520 - acc: 0.9838 - val_loss: 0.0359 - val_acc: 0.9886\n",
      "Restoring model weights from the end of the best epoch\n",
      "\n",
      "Epoch 00007: val_loss did not improve from 0.03396\n",
      "Epoch 00007: early stopping\n"
     ]
    },
    {
     "data": {
      "text/plain": [
       "<keras.callbacks.History at 0x7fd14c17a358>"
      ]
     },
     "execution_count": 17,
     "metadata": {},
     "output_type": "execute_result"
    }
   ],
   "source": [
    "model.fit(x=train_X, y=train_y, batch_size=256, epochs=20, validation_split=0.1, callbacks=[es, mc])"
   ]
  },
  {
   "cell_type": "code",
   "execution_count": 18,
   "metadata": {},
   "outputs": [],
   "source": [
    "model.save('trained-model-weights/mnist-cnn-1.h5')"
   ]
  }
 ],
 "metadata": {
  "kernelspec": {
   "display_name": "Python 3",
   "language": "python",
   "name": "python3"
  },
  "language_info": {
   "codemirror_mode": {
    "name": "ipython",
    "version": 3
   },
   "file_extension": ".py",
   "mimetype": "text/x-python",
   "name": "python",
   "nbconvert_exporter": "python",
   "pygments_lexer": "ipython3",
   "version": "3.6.8"
  }
 },
 "nbformat": 4,
 "nbformat_minor": 2
}
